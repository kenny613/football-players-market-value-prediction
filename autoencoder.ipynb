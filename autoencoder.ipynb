{
 "cells": [
  {
   "cell_type": "code",
   "execution_count": 1,
   "id": "31c4597c",
   "metadata": {},
   "outputs": [],
   "source": [
    "import matplotlib.pyplot as plt\n",
    "import numpy as np\n",
    "import random\n",
    "import tensorflow as tf\n",
    "from tensorflow import keras\n",
    "from tensorflow.keras import layers\n",
    "import pandas as pd\n",
    "import tensorflow_datasets as tfds\n",
    "from sklearn.decomposition import PCA\n",
    "from sklearn.model_selection import train_test_split\n",
    "input_dim = 138"
   ]
  },
  {
   "cell_type": "code",
   "execution_count": null,
   "id": "a8771563",
   "metadata": {},
   "outputs": [],
   "source": [
    "df = pd.read_csv(r\"dataset_v10.csv\",index_col=[0])\n",
    "df"
   ]
  },
  {
   "cell_type": "code",
   "execution_count": null,
   "id": "469cb7d9",
   "metadata": {},
   "outputs": [],
   "source": [
    "tf.convert_to_tensor(df)\n",
    "# apply normalization to all features\n",
    "normalized_attr = df.columns.tolist()[:-1]\n",
    "normalized_attr\n",
    "df[normalized_attr] = df[normalized_attr].apply(lambda x: (x - x.min()) / (x.max() - x.min()))\n",
    "#df[normalized_attr] = df[normalized_attr].apply(lambda x: (x - x.mean()) / (x.std()))"
   ]
  },
  {
   "cell_type": "code",
   "execution_count": null,
   "id": "d46e6724",
   "metadata": {},
   "outputs": [],
   "source": [
    "import random\n",
    "from datetime import datetime\n",
    "random.seed(datetime.now())\n",
    "train_dataset = df.sample(frac=0.75, random_state=random.randint(0,100000))\n",
    "test_dataset = df.drop(train_dataset.index)\n",
    "train_dataset"
   ]
  },
  {
   "cell_type": "code",
   "execution_count": null,
   "id": "4b350150",
   "metadata": {},
   "outputs": [],
   "source": [
    "train_features = train_dataset.copy()\n",
    "test_features = test_dataset.copy()\n",
    "\n",
    "train_labels = train_features.pop('Market value')\n",
    "test_labels = test_features.pop('Market value')\n"
   ]
  },
  {
   "cell_type": "markdown",
   "id": "5cd82e39",
   "metadata": {},
   "source": [
    "# autoencoder model\n"
   ]
  },
  {
   "cell_type": "code",
   "execution_count": 2,
   "id": "fbc967ce",
   "metadata": {},
   "outputs": [],
   "source": [
    "from keras import regularizers\n",
    "def autoencoder_model():\n",
    "    model = keras.Sequential([\n",
    "    layers.Input(shape=(138,)),\n",
    "    layers.Dense(64, activation='relu'),\n",
    "    #layers.Dense(32, activation='relu'),\n",
    "    #layers.Dense(64, activation='relu',activity_regularizer=regularizers.l1(10e-5)),\n",
    "    #layers.Dense(64, activation='relu'),\n",
    "    layers.Dense(138, activation='relu')\n",
    "    ])\n",
    "\n",
    "    model.compile(loss='mse',optimizer=tf.keras.optimizers.Adam(0.001))\n",
    "    return model\n"
   ]
  },
  {
   "cell_type": "code",
   "execution_count": 3,
   "id": "a73ba3df",
   "metadata": {},
   "outputs": [
    {
     "name": "stdout",
     "output_type": "stream",
     "text": [
      "Model: \"sequential\"\n",
      "_________________________________________________________________\n",
      " Layer (type)                Output Shape              Param #   \n",
      "=================================================================\n",
      " dense (Dense)               (None, 64)                8896      \n",
      "                                                                 \n",
      " dense_1 (Dense)             (None, 138)               8970      \n",
      "                                                                 \n",
      "=================================================================\n",
      "Total params: 17,866\n",
      "Trainable params: 17,866\n",
      "Non-trainable params: 0\n",
      "_________________________________________________________________\n",
      "('You must install pydot (`pip install pydot`) and install graphviz (see instructions at https://graphviz.gitlab.io/download/) ', 'for plot_model/model_to_dot to work.')\n"
     ]
    }
   ],
   "source": [
    "auto_encoder = autoencoder_model()\n",
    "auto_encoder.summary()\n",
    "tf.keras.utils.plot_model(auto_encoder,\"autoencode_arch.png\")"
   ]
  },
  {
   "cell_type": "code",
   "execution_count": null,
   "id": "702ede82",
   "metadata": {
    "scrolled": true
   },
   "outputs": [],
   "source": [
    "history = auto_encoder.fit(\n",
    "    train_features,\n",
    "    train_features,\n",
    "    validation_split=0.2,\n",
    "    batch_size=50,\n",
    "    verbose=1, epochs=1000)"
   ]
  },
  {
   "cell_type": "code",
   "execution_count": null,
   "id": "647d8971",
   "metadata": {},
   "outputs": [],
   "source": [
    "test_results = {}\n",
    "test_results['auto_encoder'] = auto_encoder.evaluate(test_features, test_features, verbose=0)\n",
    "print(test_results['auto_encoder'] )\n",
    "pd.DataFrame(test_results, index=['mse']).T"
   ]
  },
  {
   "cell_type": "code",
   "execution_count": null,
   "id": "efe9d4a1",
   "metadata": {},
   "outputs": [],
   "source": [
    "plt.plot(history.history['loss'], label='train')\n",
    "plt.plot(history.history['val_loss'], label='test')\n",
    "plt.legend()\n",
    "plt.show()"
   ]
  },
  {
   "cell_type": "code",
   "execution_count": null,
   "id": "ae82f505",
   "metadata": {},
   "outputs": [],
   "source": [
    "auto_encoder.save(\"auto_encoder_ls.h5\")"
   ]
  },
  {
   "cell_type": "code",
   "execution_count": null,
   "id": "8dc31f60",
   "metadata": {},
   "outputs": [],
   "source": []
  }
 ],
 "metadata": {
  "kernelspec": {
   "display_name": "maml",
   "language": "python",
   "name": "maml"
  },
  "language_info": {
   "codemirror_mode": {
    "name": "ipython",
    "version": 3
   },
   "file_extension": ".py",
   "mimetype": "text/x-python",
   "name": "python",
   "nbconvert_exporter": "python",
   "pygments_lexer": "ipython3",
   "version": "3.7.12"
  }
 },
 "nbformat": 4,
 "nbformat_minor": 5
}
